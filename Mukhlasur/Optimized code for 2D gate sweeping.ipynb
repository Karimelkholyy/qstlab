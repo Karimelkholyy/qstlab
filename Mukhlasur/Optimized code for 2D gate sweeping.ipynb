{
 "cells": [
  {
   "cell_type": "code",
   "execution_count": 11,
   "metadata": {
    "scrolled": false
   },
   "outputs": [
    {
     "name": "stdout",
     "output_type": "stream",
     "text": [
      "Number of channels:  24\n",
      "Gate voltage:  0.0\n",
      "Drain voltage:  -0.01\n",
      "Drain voltage:  -0.0077777777777777776\n",
      "Drain voltage:  -0.005555555555555556\n",
      "Drain voltage:  -0.003333333333333334\n",
      "Drain voltage:  -0.0011111111111111113\n",
      "Drain voltage:  0.0011111111111111113\n",
      "Drain voltage:  0.0033333333333333322\n",
      "Drain voltage:  0.005555555555555555\n",
      "Drain voltage:  0.0077777777777777776\n",
      "Drain voltage:  0.01\n",
      "Time taken for data collection:  8.59520959854126  (sec)\n",
      "Data is saved to dat23.hdf5 file.\n"
     ]
    }
   ],
   "source": [
    "import nidaqmx\n",
    "import numpy as np\n",
    "from scipy import signal\n",
    "import matplotlib.pyplot as plt\n",
    "import os\n",
    "import time\n",
    "from nidaqmx.constants import AcquisitionType as AcqType\n",
    "from nidaqmx.constants import TerminalConfiguration as TermConfig\n",
    "from time import sleep\n",
    "import qcodes as qc\n",
    "import qcodes.instrument_drivers.QDevil.QDevil_QDAC as QDac\n",
    "from qcodes.instrument_drivers.QDevil.QDevil_QDAC import Mode\n",
    "from datetime import datetime\n",
    "import h5py\n",
    "\n",
    "def plot_Id_Vd(i):\n",
    "    plt.figure(1, figsize=[7,5])\n",
    "    plt.plot(Vd, Id[i,:], '-*')\n",
    "    plt.xlabel('Drain to Source Voltage (V)')\n",
    "    plt.ylabel('Drain to Source Current (nA)')\n",
    "    plt.legend(Vg[:(i+1)])\n",
    "    \n",
    "def plot_Id_Vg(i):\n",
    "    plt.figure(2, figsize=[7,5])\n",
    "    plt.plot(Vg[:(i+1)], Id[:(i+1),:], '-*')\n",
    "    plt.xlabel('Gate Voltage (V)')\n",
    "    plt.ylabel('Drain to Source Current (nA)')\n",
    "    plt.legend(Vd)\n",
    "    \n",
    "\n",
    "\n",
    "# gain of the preamps\n",
    "gain = 1e6\n",
    "\n",
    "# Data collection with NIDAQ at maximum sampling rate\n",
    "V_range = 10 # in volts\n",
    "rs_acqu = 1e6 # in Hz\n",
    "rs_desired = 60 # in Hz\n",
    "\n",
    "t_acqu = 1/rs_desired # n(=1) period of desired cycle\n",
    "ns_acqu = int(rs_acqu*t_acqu)\n",
    "t = np.arange(start=0, stop=t_acqu, step=1/rs_acqu)\n",
    "\n",
    "\n",
    "#QDAC\n",
    "qdac = QDac.QDac(name='qdac', address='ASRL5::INSTR', update_currents=False)\n",
    "print(\"Number of channels: \", qdac.num_chans)\n",
    "# voltage_slope = 1 # 0.01 V/sec\n",
    "# qdac.ch01.slope(voltage_slope)\n",
    "# qdac.ch02.slope(voltage_slope)\n",
    "\n",
    "# Number of data points for the 2D sweeps\n",
    "Nd = 10\n",
    "Ng = 1\n",
    "\n",
    "Vd = np.linspace(start = -10e-3, stop = +10e-3, num = Nd, endpoint=True)\n",
    "Vg = np.linspace(start = 0, stop = 1, num = Ng, endpoint = True)\n",
    "Id = np.zeros((Ng, Nd)) # currents and two voltages\n",
    "Ig = np.zeros((Ng, Nd)) # recording gate leakage\n",
    "Id_leak = np.zeros((Ng, Nd))\n",
    "\n",
    "start_time = time.time() # to check how long it takes\n",
    "\n",
    "%matplotlib qt\n",
    "for i in np.arange(Ng):\n",
    "    qdac.ch01.v.set(Vg[i])\n",
    "    print('Gate voltage: ', Vg[i])\n",
    "    sleep(0.1)\n",
    "    for j in np.arange(Nd):\n",
    "        # set the appropriate voltage\n",
    "        qdac.ch02.v.set(Vd[j])\n",
    "        print('Drain voltage: ', Vd[j])\n",
    "        \n",
    "        # Ig[i,j] = qdac.ch01.i.get()\n",
    "        \n",
    "        sleep(.1) # 1ms wait for voltage stabilization\n",
    "        \n",
    "        with nidaqmx.Task() as acqu_task:\n",
    "            # Set acquisition channels and specs\n",
    "            acqu_task.ai_channels.add_ai_voltage_chan(\"Dev2/ai1\",terminal_config=TermConfig.DIFFERENTIAL,min_val=-V_range,max_val=+V_range)\n",
    "            acqu_task.timing.cfg_samp_clk_timing(rs_acqu,sample_mode=AcqType.FINITE,samps_per_chan=ns_acqu)\n",
    "\n",
    "            # Start acquisition\n",
    "            acqu_task.start()\n",
    "\n",
    "            # Collect the data measured\n",
    "            current_i = acqu_task.read(number_of_samples_per_channel=ns_acqu)\n",
    "            current_i = 1e9*np.array(current_i)/gain # voltage to actual current (in nA) conversion\n",
    "\n",
    "            # Stop acquisition\n",
    "            acqu_task.stop()\n",
    "            \n",
    "            # Assign to current array\n",
    "            Id[i,j] = np.average(current_i)\n",
    "            Ig[i, j] = qdac.ch01.i.get() #collecting gate leakage current\n",
    "            Id_leak[i, j]= qdac.ch02.i.get()\n",
    "    plot_Id_Vd(i)\n",
    "    plt.pause(0.001)\n",
    "    plot_Id_Vg(i)\n",
    "    plt.pause(0.001)\n",
    "            \n",
    "\n",
    "stop_time = time.time()\n",
    "print('Time taken for data collection: ', stop_time-start_time, ' (sec)')\n",
    "\n",
    "#resetting all voltages\n",
    "qdac.ch01.v.set(0)\n",
    "qdac.ch02.v.set(0)\n",
    "\n",
    "qdac.close()\n",
    "\n",
    "for i in range(len(Vd)):\n",
    "    plt.figure(5, figsize=[10,6])\n",
    "    plt.plot(Vg, Ig[:,i],'-*', label=Vd[i])\n",
    "    plt.xlabel('Gate Voltage (V)')\n",
    "    plt.ylabel('Leakage Current (A)')\n",
    "    plt.legend()\n",
    "\n",
    "for i in range(len(Vg)):\n",
    "    plt.figure(7, figsize=[10,6])\n",
    "    plt.plot(Vd, Id_leak[i,:],'-*', label=Vg[i])\n",
    "    plt.xlabel('Drain Voltage (V)')\n",
    "    plt.ylabel('Leakage Current (A)')\n",
    "    plt.legend()\n",
    "\n",
    "save_data = True\n",
    "\n",
    "path_directory = 'C:/Users/Measurement2/OneDrive/GroupShared/Data/QSim/20201130/'\n",
    "meta_text = np.array(time.ctime()+'. Device 7 (BB remapped, no series resistor)) is connected.', dtype='S')\n",
    "\n",
    "if save_data==True:\n",
    "    # reading the index number\n",
    "    file_num = open(path_directory+\"filenum.txt\",\"r\")\n",
    "    index = file_num.read()\n",
    "    file_num.close()\n",
    "    \n",
    "    # saving the data into hdf5 file\n",
    "    f = h5py.File(path_directory+'dat'+index+'.hdf5','w')\n",
    "    f.create_dataset('data/Id', data=Id)\n",
    "    f.create_dataset('data/Ig', data=Ig)\n",
    "    f.create_dataset('data/Id_leak', data=Id_leak)\n",
    "    f.create_dataset('variable/Vd', data=Vd)\n",
    "    f.create_dataset('variable/Vg', data=Vg)\n",
    "    f.create_dataset('metadata', data=[meta_text])\n",
    "    f.close()\n",
    "    print('Data is saved to dat'+index+'.hdf5 file.')\n",
    "    \n",
    "    # updating the index number\n",
    "    file_num = open(path_directory+\"filenum.txt\",\"w\")\n",
    "    file_num.write(str(int(index)+1))\n",
    "    file_num.close()"
   ]
  },
  {
   "cell_type": "code",
   "execution_count": 48,
   "metadata": {},
   "outputs": [],
   "source": [
    "for i in range(len(Vd)):\n",
    "    plt.figure(5, figsize=[10,6])\n",
    "    plt.plot(Vg, Ig[:,i],'-*', label=Vd[i])\n",
    "    plt.xlabel('Gate Voltage (V)')\n",
    "    plt.ylabel('Leakage Current (A)')\n",
    "    plt.legend()"
   ]
  },
  {
   "cell_type": "code",
   "execution_count": 8,
   "metadata": {},
   "outputs": [],
   "source": [
    "qdac.close()"
   ]
  },
  {
   "cell_type": "code",
   "execution_count": 65,
   "metadata": {
    "scrolled": false
   },
   "outputs": [
    {
     "name": "stdout",
     "output_type": "stream",
     "text": [
      "Channel 1 \n",
      "    Voltage: 0.0 (V).\n",
      "    Current: None (A).\n",
      "    Mode: V range low / I range low.\n",
      "    Slope: Inf (V/s).\n",
      "\n",
      "Channel 2 \n",
      "    Voltage: 0.0 (V).\n",
      "    Current: None (A).\n",
      "    Mode: V range low / I range low.\n",
      "    Slope: Inf (V/s).\n",
      "\n",
      "Channel 3 \n",
      "    Voltage: -2e-06 (V).\n",
      "    Current: None (A).\n",
      "    Mode: V range high / I range high.\n",
      "    Slope: Inf (V/s).\n",
      "\n",
      "Channel 4 \n",
      "    Voltage: 1e-06 (V).\n",
      "    Current: None (A).\n",
      "    Mode: V range low / I range low.\n",
      "    Slope: Inf (V/s).\n",
      "\n",
      "Channel 5 \n",
      "    Voltage: -9e-06 (V).\n",
      "    Current: None (A).\n",
      "    Mode: V range high / I range high.\n",
      "    Slope: Inf (V/s).\n",
      "\n",
      "Channel 6 \n",
      "    Voltage: 9e-06 (V).\n",
      "    Current: None (A).\n",
      "    Mode: V range high / I range high.\n",
      "    Slope: Inf (V/s).\n",
      "\n",
      "Channel 7 \n",
      "    Voltage: 8e-06 (V).\n",
      "    Current: None (A).\n",
      "    Mode: V range high / I range high.\n",
      "    Slope: Inf (V/s).\n",
      "\n",
      "Channel 8 \n",
      "    Voltage: 7e-06 (V).\n",
      "    Current: None (A).\n",
      "    Mode: V range high / I range high.\n",
      "    Slope: Inf (V/s).\n",
      "\n",
      "Channel 9 \n",
      "    Voltage: -1e-06 (V).\n",
      "    Current: None (A).\n",
      "    Mode: V range high / I range high.\n",
      "    Slope: Inf (V/s).\n",
      "\n",
      "Channel 10 \n",
      "    Voltage: 8e-06 (V).\n",
      "    Current: None (A).\n",
      "    Mode: V range high / I range high.\n",
      "    Slope: Inf (V/s).\n",
      "\n",
      "Channel 11 \n",
      "    Voltage: -4e-06 (V).\n",
      "    Current: None (A).\n",
      "    Mode: V range high / I range high.\n",
      "    Slope: Inf (V/s).\n",
      "\n",
      "Channel 12 \n",
      "    Voltage: -7e-06 (V).\n",
      "    Current: None (A).\n",
      "    Mode: V range high / I range high.\n",
      "    Slope: Inf (V/s).\n",
      "\n",
      "Channel 13 \n",
      "    Voltage: -9e-06 (V).\n",
      "    Current: None (A).\n",
      "    Mode: V range high / I range high.\n",
      "    Slope: Inf (V/s).\n",
      "\n",
      "Channel 14 \n",
      "    Voltage: 2e-06 (V).\n",
      "    Current: None (A).\n",
      "    Mode: V range high / I range high.\n",
      "    Slope: Inf (V/s).\n",
      "\n",
      "Channel 15 \n",
      "    Voltage: -5e-06 (V).\n",
      "    Current: None (A).\n",
      "    Mode: V range high / I range high.\n",
      "    Slope: Inf (V/s).\n",
      "\n",
      "Channel 16 \n",
      "    Voltage: 2e-06 (V).\n",
      "    Current: None (A).\n",
      "    Mode: V range high / I range high.\n",
      "    Slope: Inf (V/s).\n",
      "\n",
      "Channel 17 \n",
      "    Voltage: -9e-06 (V).\n",
      "    Current: None (A).\n",
      "    Mode: V range high / I range high.\n",
      "    Slope: Inf (V/s).\n",
      "\n",
      "Channel 18 \n",
      "    Voltage: -5e-06 (V).\n",
      "    Current: None (A).\n",
      "    Mode: V range high / I range high.\n",
      "    Slope: Inf (V/s).\n",
      "\n",
      "Channel 19 \n",
      "    Voltage: -4e-06 (V).\n",
      "    Current: None (A).\n",
      "    Mode: V range high / I range high.\n",
      "    Slope: Inf (V/s).\n",
      "\n",
      "Channel 20 \n",
      "    Voltage: 7e-06 (V).\n",
      "    Current: None (A).\n",
      "    Mode: V range high / I range high.\n",
      "    Slope: Inf (V/s).\n",
      "\n",
      "Channel 21 \n",
      "    Voltage: 9e-06 (V).\n",
      "    Current: None (A).\n",
      "    Mode: V range high / I range high.\n",
      "    Slope: Inf (V/s).\n",
      "\n",
      "Channel 22 \n",
      "    Voltage: -8e-06 (V).\n",
      "    Current: None (A).\n",
      "    Mode: V range high / I range high.\n",
      "    Slope: Inf (V/s).\n",
      "\n",
      "Channel 23 \n",
      "    Voltage: 3e-06 (V).\n",
      "    Current: None (A).\n",
      "    Mode: V range high / I range high.\n",
      "    Slope: Inf (V/s).\n",
      "\n",
      "Channel 24 \n",
      "    Voltage: 0.0 (V).\n",
      "    Current: None (A).\n",
      "    Mode: V range high / I range high.\n",
      "    Slope: Inf (V/s).\n",
      "\n"
     ]
    }
   ],
   "source": [
    "qdac = QDac.QDac(name='qdac', address='ASRL5::INSTR', update_currents=False)\n",
    "qdac.print_overview(update_currents=False)\n",
    "qdac.close()"
   ]
  },
  {
   "cell_type": "code",
   "execution_count": 25,
   "metadata": {},
   "outputs": [],
   "source": [
    "import h5py\n",
    "\n",
    "def plot1D_Id_Vd(i):\n",
    "    plt.figure(3, figsize=[10,6])\n",
    "    plt.plot(Vd, Id[i,:],'-*' , label=Vg[i])\n",
    "    plt.xlabel('Drain to Source Voltage (V)')\n",
    "    plt.ylabel('Drain to Source Current (nA)')\n",
    "    plt.legend()\n",
    "\n",
    "def plot1D_Id_Vg(i):\n",
    "    plt.figure(4, figsize=[10,6])\n",
    "    plt.plot(Vg, Id[:,i],'-*', label=Vd[i])\n",
    "    plt.xlabel('Gate Voltage (V)')\n",
    "    plt.ylabel('Drain to Source Current (nA)')\n",
    "    plt.legend()\n",
    "    \n",
    "%matplotlib qt\n",
    "\n",
    "f = h5py.File('C:/Users/Measurement2/OneDrive/GroupShared/Data/QSim/20201130/dat6.hdf5','r')\n",
    "Id = np.array(f['data/Id'])\n",
    "Vg = np.array(f['variable/Vg'])\n",
    "Vd = np.array(f['variable/Vd'])\n",
    "f.close()\n",
    "\n",
    "for i in [0, 2]:\n",
    "    plot1D_Id_Vd(i)\n",
    "\n",
    "for i in [0, 3]:\n",
    "    plot1D_Id_Vg(i)"
   ]
  },
  {
   "cell_type": "code",
   "execution_count": null,
   "metadata": {},
   "outputs": [],
   "source": [
    "f = h5py.File('C:/Users/Measurement2/OneDrive/GroupShared/Data/QSim/20201130/dat18.hdf5','a')\n",
    "f.create_dataset\n",
    "f.close()"
   ]
  },
  {
   "cell_type": "code",
   "execution_count": 15,
   "metadata": {},
   "outputs": [
    {
     "name": "stdout",
     "output_type": "stream",
     "text": [
      "Variable         Type                          Data/Info\n",
      "--------------------------------------------------------\n",
      "AcqType          EnumMeta                      <enum 'AcquisitionType'>\n",
      "Id               ndarray                       3x5: 15 elems, type `float64`, 120 bytes\n",
      "Ig               ndarray                       3x5: 15 elems, type `float64`, 120 bytes\n",
      "Mode             EnumMeta                      <enum 'Mode'>\n",
      "Nd               int                           5\n",
      "Ng               int                           3\n",
      "QDac             module                        <module 'qcodes.instrumen<...>\\QDevil\\\\QDevil_QDAC.py'>\n",
      "TermConfig       EnumMeta                      <enum 'TerminalConfiguration'>\n",
      "V_range          int                           10\n",
      "Vd               ndarray                       5: 5 elems, type `float64`, 40 bytes\n",
      "Vg               ndarray                       3: 3 elems, type `float64`, 24 bytes\n",
      "acqu_task        Task                          <object with id 2553710632200 (str() failed)>\n",
      "current_i        ndarray                       16666: 16666 elems, type `float64`, 133328 bytes (130.203125 kb)\n",
      "datetime         type                          <class 'datetime.datetime'>\n",
      "f                File                          <Closed HDF5 file>\n",
      "file_num         TextIOWrapper                 <_io.TextIOWrapper name='<...>de='w' encoding='cp1252'>\n",
      "gain             float                         1000000.0\n",
      "h5py             module                        <module 'h5py' from 'C:\\\\<...>ages\\\\h5py\\\\__init__.py'>\n",
      "i                int                           3\n",
      "index            str                           6\n",
      "j                int32                         4\n",
      "meta_text        ndarray                       : 1 elems, type `|S148`, 148 bytes\n",
      "nidaqmx          module                        <module 'nidaqmx' from 'C<...>s\\\\nidaqmx\\\\__init__.py'>\n",
      "np               module                        <module 'numpy' from 'C:\\<...>ges\\\\numpy\\\\__init__.py'>\n",
      "ns_acqu          int                           16666\n",
      "os               module                        <module 'os' from 'C:\\\\Us<...>nvs\\\\qcodes\\\\lib\\\\os.py'>\n",
      "path_directory   str                           C:/Users/Measurement2/One<...>hared/Data/QSim/20201130/\n",
      "plot1D_Id_Vd     function                      <function plot1D_Id_Vd at 0x00000252970CE048>\n",
      "plot1D_Id_Vg     function                      <function plot1D_Id_Vg at 0x00000252970CE288>\n",
      "plot_Id_Vd       function                      <function plot_Id_Vd at 0x0000025294BBC168>\n",
      "plot_Id_Vg       function                      <function plot_Id_Vg at 0x0000025294BBC0D8>\n",
      "plt              module                        <module 'matplotlib.pyplo<...>\\\\matplotlib\\\\pyplot.py'>\n",
      "qc               module                        <module 'qcodes' from 'C:<...>es\\\\qcodes\\\\__init__.py'>\n",
      "qdac             QDac                          <QDac: qdac>\n",
      "rs_acqu          float                         1000000.0\n",
      "rs_desired       int                           60\n",
      "save_data        bool                          True\n",
      "signal           module                        <module 'scipy.signal' fr<...>py\\\\signal\\\\__init__.py'>\n",
      "sleep            builtin_function_or_method    <built-in function sleep>\n",
      "start_time       float                         1606701468.5908105\n",
      "stop_time        float                         1606701476.217786\n",
      "t                ndarray                       16667: 16667 elems, type `float64`, 133336 bytes (130.2109375 kb)\n",
      "t_acqu           float                         0.016666666666666666\n",
      "time             module                        <module 'time' (built-in)>\n"
     ]
    }
   ],
   "source": [
    "%whos"
   ]
  },
  {
   "cell_type": "code",
   "execution_count": 19,
   "metadata": {},
   "outputs": [
    {
     "data": {
      "text/plain": [
       "[<matplotlib.lines.Line2D at 0x252967ad748>]"
      ]
     },
     "execution_count": 19,
     "metadata": {},
     "output_type": "execute_result"
    }
   ],
   "source": [
    "plt.figure()\n",
    "plt.plot(t[0:-1], current_i)"
   ]
  },
  {
   "cell_type": "code",
   "execution_count": 24,
   "metadata": {},
   "outputs": [],
   "source": [
    "plt.close()"
   ]
  },
  {
   "cell_type": "code",
   "execution_count": 38,
   "metadata": {},
   "outputs": [
    {
     "data": {
      "text/plain": [
       "<matplotlib.legend.Legend at 0x2529969a548>"
      ]
     },
     "execution_count": 38,
     "metadata": {},
     "output_type": "execute_result"
    }
   ],
   "source": [
    "\n",
    "plt.figure(5, figsize=[10,6])\n",
    "plt.plot(Vg, Ig[:,i],'-*', label=Vd[i])\n",
    "plt.xlabel('Gate Voltage (V)')\n",
    "plt.ylabel('Leakage Current (A)')\n",
    "plt.legend()"
   ]
  },
  {
   "cell_type": "code",
   "execution_count": 43,
   "metadata": {},
   "outputs": [
    {
     "data": {
      "text/plain": [
       "<matplotlib.legend.Legend at 0x25296eee548>"
      ]
     },
     "execution_count": 43,
     "metadata": {},
     "output_type": "execute_result"
    }
   ],
   "source": [
    "plt.figure(6, figsize=[10,6])\n",
    "plt.plot(Vd, Id_leak[i,:],'-*', label=Vg[i])\n",
    "plt.xlabel('Drain Voltage (V)')\n",
    "plt.ylabel('Leakage Current (A)')\n",
    "plt.legend()"
   ]
  },
  {
   "cell_type": "code",
   "execution_count": 61,
   "metadata": {
    "scrolled": false
   },
   "outputs": [
    {
     "name": "stdout",
     "output_type": "stream",
     "text": [
      "Channel 1 \n",
      "    Voltage: 0.0 (V).\n",
      "    Current: None (A).\n",
      "    Mode: V range low / I range low.\n",
      "    Slope: Inf (V/s).\n",
      "\n",
      "Channel 2 \n",
      "    Voltage: 7e-06 (V).\n",
      "    Current: None (A).\n",
      "    Mode: V range low / I range low.\n",
      "    Slope: Inf (V/s).\n",
      "\n",
      "Channel 3 \n",
      "    Voltage: -2e-06 (V).\n",
      "    Current: None (A).\n",
      "    Mode: V range high / I range high.\n",
      "    Slope: Inf (V/s).\n",
      "\n",
      "Channel 4 \n",
      "    Voltage: 1e-06 (V).\n",
      "    Current: None (A).\n",
      "    Mode: V range low / I range low.\n",
      "    Slope: Inf (V/s).\n",
      "\n",
      "Channel 5 \n",
      "    Voltage: -9e-06 (V).\n",
      "    Current: None (A).\n",
      "    Mode: V range high / I range high.\n",
      "    Slope: Inf (V/s).\n",
      "\n",
      "Channel 6 \n",
      "    Voltage: 9e-06 (V).\n",
      "    Current: None (A).\n",
      "    Mode: V range high / I range high.\n",
      "    Slope: Inf (V/s).\n",
      "\n",
      "Channel 7 \n",
      "    Voltage: 8e-06 (V).\n",
      "    Current: None (A).\n",
      "    Mode: V range high / I range high.\n",
      "    Slope: Inf (V/s).\n",
      "\n",
      "Channel 8 \n",
      "    Voltage: 7e-06 (V).\n",
      "    Current: None (A).\n",
      "    Mode: V range high / I range high.\n",
      "    Slope: Inf (V/s).\n",
      "\n",
      "Channel 9 \n",
      "    Voltage: -1e-06 (V).\n",
      "    Current: None (A).\n",
      "    Mode: V range high / I range high.\n",
      "    Slope: Inf (V/s).\n",
      "\n",
      "Channel 10 \n",
      "    Voltage: 8e-06 (V).\n",
      "    Current: None (A).\n",
      "    Mode: V range high / I range high.\n",
      "    Slope: Inf (V/s).\n",
      "\n",
      "Channel 11 \n",
      "    Voltage: -4e-06 (V).\n",
      "    Current: None (A).\n",
      "    Mode: V range high / I range high.\n",
      "    Slope: Inf (V/s).\n",
      "\n",
      "Channel 12 \n",
      "    Voltage: -7e-06 (V).\n",
      "    Current: None (A).\n",
      "    Mode: V range high / I range high.\n",
      "    Slope: Inf (V/s).\n",
      "\n",
      "Channel 13 \n",
      "    Voltage: -9e-06 (V).\n",
      "    Current: None (A).\n",
      "    Mode: V range high / I range high.\n",
      "    Slope: Inf (V/s).\n",
      "\n",
      "Channel 14 \n",
      "    Voltage: 2e-06 (V).\n",
      "    Current: None (A).\n",
      "    Mode: V range high / I range high.\n",
      "    Slope: Inf (V/s).\n",
      "\n",
      "Channel 15 \n",
      "    Voltage: -5e-06 (V).\n",
      "    Current: None (A).\n",
      "    Mode: V range high / I range high.\n",
      "    Slope: Inf (V/s).\n",
      "\n",
      "Channel 16 \n",
      "    Voltage: 2e-06 (V).\n",
      "    Current: None (A).\n",
      "    Mode: V range high / I range high.\n",
      "    Slope: Inf (V/s).\n",
      "\n",
      "Channel 17 \n",
      "    Voltage: -9e-06 (V).\n",
      "    Current: None (A).\n",
      "    Mode: V range high / I range high.\n",
      "    Slope: Inf (V/s).\n",
      "\n",
      "Channel 18 \n",
      "    Voltage: -5e-06 (V).\n",
      "    Current: None (A).\n",
      "    Mode: V range high / I range high.\n",
      "    Slope: Inf (V/s).\n",
      "\n",
      "Channel 19 \n",
      "    Voltage: -4e-06 (V).\n",
      "    Current: None (A).\n",
      "    Mode: V range high / I range high.\n",
      "    Slope: Inf (V/s).\n",
      "\n",
      "Channel 20 \n",
      "    Voltage: 7e-06 (V).\n",
      "    Current: None (A).\n",
      "    Mode: V range high / I range high.\n",
      "    Slope: Inf (V/s).\n",
      "\n",
      "Channel 21 \n",
      "    Voltage: 9e-06 (V).\n",
      "    Current: None (A).\n",
      "    Mode: V range high / I range high.\n",
      "    Slope: Inf (V/s).\n",
      "\n",
      "Channel 22 \n",
      "    Voltage: -8e-06 (V).\n",
      "    Current: None (A).\n",
      "    Mode: V range high / I range high.\n",
      "    Slope: Inf (V/s).\n",
      "\n",
      "Channel 23 \n",
      "    Voltage: 3e-06 (V).\n",
      "    Current: None (A).\n",
      "    Mode: V range high / I range high.\n",
      "    Slope: Inf (V/s).\n",
      "\n",
      "Channel 24 \n",
      "    Voltage: 0.0 (V).\n",
      "    Current: None (A).\n",
      "    Mode: V range high / I range high.\n",
      "    Slope: Inf (V/s).\n",
      "\n"
     ]
    }
   ],
   "source": [
    "qdac = QDac.QDac(name='qdac', address='ASRL5::INSTR', update_currents=False)\n",
    "qdac.ch02.mode(Mode.vlow_ilow)\n",
    "qdac.print_overview(update_currents=False)\n",
    "qdac.close()"
   ]
  },
  {
   "cell_type": "code",
   "execution_count": 47,
   "metadata": {},
   "outputs": [],
   "source": [
    "for i in range(len(Vg)):\n",
    "    plt.figure(7, figsize=[10,6])\n",
    "    plt.plot(Vd, Id_leak[i,:],'-*', label=Vg[i])\n",
    "    plt.xlabel('Drain Voltage (V)')\n",
    "    plt.ylabel('Leakage Current (A)')\n",
    "    plt.legend()"
   ]
  },
  {
   "cell_type": "code",
   "execution_count": 55,
   "metadata": {},
   "outputs": [
    {
     "data": {
      "text/plain": [
       "1798.5611510791366"
      ]
     },
     "execution_count": 55,
     "metadata": {},
     "output_type": "execute_result"
    }
   ],
   "source": [
    "10e-3/((1.88+3.68)*1e-6)"
   ]
  },
  {
   "cell_type": "code",
   "execution_count": 66,
   "metadata": {},
   "outputs": [],
   "source": [
    "import h5py\n",
    "f = h5py.File('C:/Users/Measurement2/OneDrive/GroupShared/Data/QSim/20201130/dat19.hdf5','r')"
   ]
  },
  {
   "cell_type": "code",
   "execution_count": 67,
   "metadata": {},
   "outputs": [
    {
     "data": {
      "text/plain": [
       "<KeysViewHDF5 ['data', 'metadata', 'variable']>"
      ]
     },
     "execution_count": 67,
     "metadata": {},
     "output_type": "execute_result"
    }
   ],
   "source": [
    "f.keys()"
   ]
  },
  {
   "cell_type": "code",
   "execution_count": 68,
   "metadata": {},
   "outputs": [
    {
     "name": "stdout",
     "output_type": "stream",
     "text": [
      "data\n",
      "data/Id\n",
      "data/Id_leak\n",
      "data/Ig\n",
      "metadata\n",
      "variable\n",
      "variable/Vd\n",
      "variable/Vg\n"
     ]
    }
   ],
   "source": [
    "f.visit(print)"
   ]
  },
  {
   "cell_type": "code",
   "execution_count": 69,
   "metadata": {},
   "outputs": [
    {
     "name": "stdout",
     "output_type": "stream",
     "text": [
      "[b'Mon Nov 30 11:26:17 2020. Device 7 (BB remapped, no series resistor)) is connected.']\n"
     ]
    }
   ],
   "source": [
    "print(f['metadata'][:])"
   ]
  },
  {
   "cell_type": "code",
   "execution_count": 70,
   "metadata": {},
   "outputs": [],
   "source": [
    "f.close()"
   ]
  },
  {
   "cell_type": "code",
   "execution_count": null,
   "metadata": {},
   "outputs": [],
   "source": []
  }
 ],
 "metadata": {
  "kernelspec": {
   "display_name": "Python 3",
   "language": "python",
   "name": "python3"
  },
  "language_info": {
   "codemirror_mode": {
    "name": "ipython",
    "version": 3
   },
   "file_extension": ".py",
   "mimetype": "text/x-python",
   "name": "python",
   "nbconvert_exporter": "python",
   "pygments_lexer": "ipython3",
   "version": "3.7.7"
  }
 },
 "nbformat": 4,
 "nbformat_minor": 4
}
