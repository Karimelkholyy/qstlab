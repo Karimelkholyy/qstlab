{
 "cells": [
  {
   "cell_type": "code",
   "execution_count": 1,
   "metadata": {},
   "outputs": [
    {
     "data": {
      "text/latex": [
       "Input for the QDAC:"
      ],
      "text/plain": [
       "<IPython.core.display.Latex object>"
      ]
     },
     "metadata": {},
     "output_type": "display_data"
    },
    {
     "data": {
      "application/vnd.jupyter.widget-view+json": {
       "model_id": "1f736e3d9589414cbbdd96be9762b740",
       "version_major": 2,
       "version_minor": 0
      },
      "text/plain": [
       "Dropdown(description='Port', index=4, layout=Layout(height='auto', width='auto'), options=('COM1', 'COM2', 'CO…"
      ]
     },
     "metadata": {},
     "output_type": "display_data"
    },
    {
     "data": {
      "text/latex": [
       "Inputs for the current preamp: "
      ],
      "text/plain": [
       "<IPython.core.display.Latex object>"
      ]
     },
     "metadata": {},
     "output_type": "display_data"
    },
    {
     "data": {
      "application/vnd.jupyter.widget-view+json": {
       "model_id": "56e8f974a21f4b8b9c0e94fa233c2d92",
       "version_major": 2,
       "version_minor": 0
      },
      "text/plain": [
       "Dropdown(description='Gain', index=6, layout=Layout(height='auto', width='auto'), options=('1e3', '1e4', '1e5'…"
      ]
     },
     "metadata": {},
     "output_type": "display_data"
    },
    {
     "data": {
      "text/latex": [
       "Inputs for the data acquisition card: "
      ],
      "text/plain": [
       "<IPython.core.display.Latex object>"
      ]
     },
     "metadata": {},
     "output_type": "display_data"
    },
    {
     "data": {
      "application/vnd.jupyter.widget-view+json": {
       "model_id": "11131cc5669d4f938b0ca28f35eb757d",
       "version_major": 2,
       "version_minor": 0
      },
      "text/plain": [
       "Dropdown(description='Device ID', index=1, layout=Layout(height='auto', width='auto'), options=('Dev1', 'Dev2'…"
      ]
     },
     "metadata": {},
     "output_type": "display_data"
    },
    {
     "data": {
      "application/vnd.jupyter.widget-view+json": {
       "model_id": "f69a56dc80fe4476bdaa21e398a467dc",
       "version_major": 2,
       "version_minor": 0
      },
      "text/plain": [
       "Dropdown(description='Analog port', index=1, layout=Layout(height='auto', width='auto'), options=('ai0', 'ai1'…"
      ]
     },
     "metadata": {},
     "output_type": "display_data"
    },
    {
     "data": {
      "application/vnd.jupyter.widget-view+json": {
       "model_id": "95cbd491893243f994fd1233a495f9c3",
       "version_major": 2,
       "version_minor": 0
      },
      "text/plain": [
       "Dropdown(description='Actual Rate', index=3, layout=Layout(height='auto', width='auto'), options=('1e3', '1e4'…"
      ]
     },
     "metadata": {},
     "output_type": "display_data"
    },
    {
     "data": {
      "application/vnd.jupyter.widget-view+json": {
       "model_id": "dbaae86360f046d6923aa9a1b6b79864",
       "version_major": 2,
       "version_minor": 0
      },
      "text/plain": [
       "FloatSlider(value=-10.0, description='Min. voltage: ', layout=Layout(height='auto', width='auto'), max=10.0, m…"
      ]
     },
     "metadata": {},
     "output_type": "display_data"
    },
    {
     "data": {
      "application/vnd.jupyter.widget-view+json": {
       "model_id": "89cb17bba6db40a5be607c7ed7507f11",
       "version_major": 2,
       "version_minor": 0
      },
      "text/plain": [
       "FloatSlider(value=10.0, description='Max. voltage: ', layout=Layout(height='auto', width='auto'), max=10.0, mi…"
      ]
     },
     "metadata": {},
     "output_type": "display_data"
    },
    {
     "data": {
      "application/vnd.jupyter.widget-view+json": {
       "model_id": "de7b1cfb0e2047ebaa5a25a0eb91353f",
       "version_major": 2,
       "version_minor": 0
      },
      "text/plain": [
       "FloatSlider(value=0.5, description='Acq. time: ', layout=Layout(height='auto', width='auto'), max=10.0)"
      ]
     },
     "metadata": {},
     "output_type": "display_data"
    },
    {
     "data": {
      "text/latex": [
       "Inputs for data averaging: "
      ],
      "text/plain": [
       "<IPython.core.display.Latex object>"
      ]
     },
     "metadata": {},
     "output_type": "display_data"
    },
    {
     "data": {
      "application/vnd.jupyter.widget-view+json": {
       "model_id": "1c54fb360e204e5b94fd2d9bb18a12db",
       "version_major": 2,
       "version_minor": 0
      },
      "text/plain": [
       "Dropdown(description='Desired Rate', index=1, layout=Layout(height='auto', width='auto'), options=('1e2', '1e3…"
      ]
     },
     "metadata": {},
     "output_type": "display_data"
    },
    {
     "data": {
      "text/latex": [
       "Inputs for plotting data: "
      ],
      "text/plain": [
       "<IPython.core.display.Latex object>"
      ]
     },
     "metadata": {},
     "output_type": "display_data"
    },
    {
     "data": {
      "application/vnd.jupyter.widget-view+json": {
       "model_id": "25fa62e430314009950af0b7abfe9484",
       "version_major": 2,
       "version_minor": 0
      },
      "text/plain": [
       "Text(value='', description='Title', layout=Layout(height='auto', width='auto'))"
      ]
     },
     "metadata": {},
     "output_type": "display_data"
    },
    {
     "data": {
      "text/latex": [
       "Inputs for saving data: "
      ],
      "text/plain": [
       "<IPython.core.display.Latex object>"
      ]
     },
     "metadata": {},
     "output_type": "display_data"
    },
    {
     "data": {
      "application/vnd.jupyter.widget-view+json": {
       "model_id": "91bdeffa4e814e988282e0f785675325",
       "version_major": 2,
       "version_minor": 0
      },
      "text/plain": [
       "Dropdown(description='Save data', index=1, layout=Layout(height='auto', width='auto'), options=('Yes', 'No'), …"
      ]
     },
     "metadata": {},
     "output_type": "display_data"
    },
    {
     "data": {
      "application/vnd.jupyter.widget-view+json": {
       "model_id": "7e1d0354e6294b7b9f59a5223348703a",
       "version_major": 2,
       "version_minor": 0
      },
      "text/plain": [
       "Text(value='', description='Folder (YYYYMMDD)', layout=Layout(height='auto', width='auto'), style=DescriptionS…"
      ]
     },
     "metadata": {},
     "output_type": "display_data"
    },
    {
     "data": {
      "application/vnd.jupyter.widget-view+json": {
       "model_id": "903695f4b25a451e9fa861c25a76f0a9",
       "version_major": 2,
       "version_minor": 0
      },
      "text/plain": [
       "Text(value='', description='More info', layout=Layout(height='auto', width='auto'))"
      ]
     },
     "metadata": {},
     "output_type": "display_data"
    }
   ],
   "source": [
    "import nidaqmx\n",
    "import numpy as np\n",
    "from scipy import signal\n",
    "import matplotlib.pyplot as plt\n",
    "import os\n",
    "import qdac\n",
    "from nidaqmx.constants import AcquisitionType as AcqType\n",
    "from nidaqmx.constants import TerminalConfiguration as TermConfig\n",
    "from datetime import datetime\n",
    "import ipywidgets as wg\n",
    "from ipywidgets import Layout\n",
    "from IPython.display import display, Latex\n",
    "%matplotlib widget\n",
    "\n",
    "# Data input section\n",
    "display(Latex('Input for the QDAC:'))\n",
    "QDAC_port = wg.Dropdown(options=['COM1','COM2','COM3','COM4','COM5','COM6'],\n",
    "    value='COM5',\n",
    "    description='Port',\n",
    "    layout=Layout(height='auto', width='auto'))\n",
    "display(QDAC_port)\n",
    "\n",
    "display(Latex('Inputs for the current preamp: '))\n",
    "\n",
    "Gain = wg.Dropdown(options=['1e3','1e4','1e5','1e6','1e7','1e8','1e9','1e10','1e11'],\n",
    "    value='1e9',\n",
    "    description='Gain',\n",
    "    layout=Layout(height='auto', width='auto'))\n",
    "display(Gain)\n",
    "\n",
    "display(Latex('Inputs for the data acquisition card: '))\n",
    "Device_ID = wg.Dropdown(options=['Dev1','Dev2','Dev3'],\n",
    "    value='Dev2',\n",
    "    description='Device ID',\n",
    "    layout=Layout(height='auto', width='auto'))\n",
    "Analog_io_port = wg.Dropdown(options=['ai0','ai1','ai2','ai3'],\n",
    "    value='ai1',\n",
    "    description='Analog port',\n",
    "    layout=Layout(height='auto', width='auto'))\n",
    "Actual_Sampling_Rate = wg.Dropdown(options=['1e3','1e4','1e5','1e6'],\n",
    "    value='1e6',\n",
    "    description='Actual Rate',\n",
    "    layout=Layout(height='auto', width='auto'))\n",
    "Minimum_voltage = wg.FloatSlider(description='Min. voltage: ', min = -10, max = 10, step = 0.1, value=-10, layout=Layout(height='auto', width='auto'))\n",
    "Maximum_voltage = wg.FloatSlider(description='Max. voltage: ', min = -10, max = 10, step = 0.1, value=10, layout=Layout(height='auto', width='auto'))\n",
    "Acquisition_time = wg.FloatSlider(description='Acq. time: ', min = 0, max = 10, step = 0.1, value=0.5, layout=Layout(height='auto', width='auto')) #in sec\n",
    "\n",
    "display(Device_ID, Analog_io_port, Actual_Sampling_Rate,Minimum_voltage, Maximum_voltage, Acquisition_time)\n",
    "\n",
    "display(Latex('Inputs for data averaging: '))\n",
    "Desired_Sampling_Rate = wg.Dropdown(options=['1e2','1e3','1e4','1e5','1e6'],\n",
    "    value='1e3',\n",
    "    description='Desired Rate',\n",
    "    layout=Layout(height='auto', width='auto'))\n",
    "display(Desired_Sampling_Rate)\n",
    "\n",
    "display(Latex('Inputs for plotting data: '))\n",
    "Title_of_plot = wg.Text(description='Title', layout=Layout(height='auto', width='auto'))\n",
    "display(Title_of_plot)\n",
    "\n",
    "display(Latex('Inputs for saving data: '))\n",
    "Saving_data = wg.Dropdown(options=['Yes','No'],\n",
    "    value='No',\n",
    "    description='Save data',\n",
    "    layout=Layout(height='auto', width='auto'))\n",
    "Folder_name = wg.Text(description='Folder (YYYYMMDD)', style = {'description_width': 'initial'}, layout=Layout(height='auto', width='auto'))\n",
    "Data_information = wg.Text(description='More info', layout=Layout(height='auto', width='auto'))\n",
    "display(Saving_data,Folder_name, Data_information)\n",
    "\n",
    "\n",
    "def start_data_collection():\n",
    "\n",
    "    #Constant values\n",
    "    global gain, rs_acqu, t_acqu, ns_acqu, t, current_i, rs_desired, t_desired, i_desired, ns_desired\n",
    "    \n",
    "    gain = float(Gain.value) # gain of the preamps\n",
    "    print('gain is =',\"{:.2e}\".format(gain))\n",
    "\n",
    "\n",
    "    # Data collection with NIDAQ at maximum sampling rate\n",
    "\n",
    "    rs_acqu = float(Actual_Sampling_Rate.value)# sampling rate in Hz\n",
    "    t_acqu = float(Acquisition_time.value) # acquisition time in second\n",
    "    ns_acqu = int(rs_acqu*t_acqu)\n",
    "    t = np.arange(start=0, stop=t_acqu, step=1/rs_acqu)\n",
    "\n",
    "\n",
    "    with nidaqmx.Task() as acqu_task:\n",
    "        # Set acquisition channels and specs\n",
    "        # Change the voltage range if necessary\n",
    "        acqu_task.ai_channels.add_ai_voltage_chan(Device_ID.value + '/'+ Analog_io_port.value,terminal_config=TermConfig.DIFFERENTIAL,min_val=Minimum_voltage.value,max_val=Maximum_voltage.value)\n",
    "        acqu_task.timing.cfg_samp_clk_timing(rs_acqu,sample_mode=AcqType.FINITE,samps_per_chan=ns_acqu)\n",
    "\n",
    "        # Start acquisition\n",
    "        acqu_task.start()\n",
    "\n",
    "        # Collect the data measured\n",
    "        current_i = acqu_task.read(number_of_samples_per_channel=ns_acqu)\n",
    "        current_i = 1e12*np.array(current_i)/gain # voltage to actual current (in pA) conversion\n",
    "\n",
    "        # Stop acquisition\n",
    "        acqu_task.stop()\n",
    "\n",
    "        \n",
    "    # Averaging to get a desired sampling rate (Similar to sampling rate conversion)\n",
    "    rs_desired = float(Desired_Sampling_Rate.value) #desired sampling rate\n",
    "    n_pointstoaverage = int(rs_acqu/rs_desired) # number of points to be averaged\n",
    "    ns_desired = int(rs_desired*t_acqu) # total number of points for the collected signal in the desired rate\n",
    "    t_desired = np.arange(start=0, stop=t_acqu, step=1/rs_desired)\n",
    "    i_desired = np.zeros(ns_desired)\n",
    "    \n",
    "    for index in np.arange(ns_desired):\n",
    "        i_desired[index] = current_i[index*n_pointstoaverage:(index+1)*n_pointstoaverage].mean()\n",
    "  \n",
    "    #Saving Data\n",
    "    if Saving_data.value=='Yes' :\n",
    "        x=t_desired\n",
    "        y=i_desired\n",
    "        data = np.column_stack((x, y))\n",
    "        \n",
    "        path=os.getcwd()\n",
    "        print(os.getcwd())\n",
    "        os.chdir('/Users/Measurement2/OneDrive/GroupShared/Data/Qsim/' + Folder_name.value)\n",
    "        date=datetime.now()\n",
    "        \n",
    "        header=Data_information.value\n",
    "        header+=\"\\n\"+str(date)+\"\\n\"\n",
    "        header+= \"x=time(sec), y=PreampCurrent(pA)\\n\"\n",
    "        print (header)\n",
    "        \n",
    "        with open('filenum.txt', 'r') as f:\n",
    "          filenum = f.readline()\n",
    "        \n",
    "        filename='dat'+str(filenum)+'.dat'\n",
    "        print(filename)\n",
    "\n",
    "        with open(os.path.join(path,filename), 'ab') as file:\n",
    "            np.savetxt(file,data,header=header,delimiter=',')    \n",
    "\n",
    "        filenum=int(filenum)+1\n",
    "\n",
    "        with open('filenum.txt', 'w') as f:\n",
    "           f.write('%d' % filenum)\n",
    "\n",
    "        \n",
    "    plt.figure(figsize=(8,5))\n",
    "    plt.plot(t, current_i)\n",
    "    plt.title('Actual signal, without averaging')\n",
    "    plt.ylabel('Preamp current (pA)')\n",
    "    plt.xlabel('time (sec)')\n",
    "    \n",
    "    plt.figure(figsize=(8,5))\n",
    "    plt.plot(t_desired, i_desired)\n",
    "    plt.title(\"Averaged signal: \" + Title_of_plot.value)\n",
    "    plt.ylabel('Preamp current (pA)')\n",
    "    plt.xlabel('time (sec)')\n",
    "    \n",
    "    \n",
    "\n",
    "def plot_actual_spectrum():\n",
    "    plt.figure(figsize=(8,5))\n",
    "\n",
    "    f,II_den=signal.periodogram(current_i,fs=rs_acqu,window='flattop',scaling='density',return_onesided=True)\n",
    "    plt.loglog(f,np.sqrt(II_den))\n",
    "    plt.xlabel('f [Hz]')\n",
    "    plt.ylabel('$\\sqrt{S_{ii}(f)}\\, (pA / \\sqrt{Hz})$')\n",
    "    plt.title('Actual spectrum')\n",
    "\n",
    "\n",
    "def plot_time_averaged_spectrum():\n",
    "    plt.figure(figsize=(8,5))\n",
    "\n",
    "    f,II_den=signal.periodogram(i_desired,fs=rs_desired,window='flattop',scaling='density',return_onesided=True)\n",
    "    plt.loglog(f, np.sqrt(II_den))\n",
    "    plt.xlabel('f [Hz]')\n",
    "    plt.ylabel('$\\sqrt{S_{ii}(f)}\\, (pA / \\sqrt{Hz})$')\n",
    "    plt.title('Spectrum of the time averaged signal')\n",
    "    \n",
    "def generate_IV(voltage_channel_number, min_voltage, max_voltage, n_of_voltage_points):\n",
    "    #Constant values\n",
    "    global gain, rs_acqu, t_acqu, ns_acqu, t, current_i, rs_desired, t_desired, i_desired, ns_desired\n",
    "    \n",
    "    gain = float(Gain.value) # gain of the preamps\n",
    "    print('gain is =',\"{:.2e}\".format(gain))\n",
    "\n",
    "\n",
    "    # Data collection with NIDAQ at maximum sampling rate\n",
    "\n",
    "    rs_acqu = float(Actual_Sampling_Rate.value)# sampling rate in Hz\n",
    "    t_acqu = float(Acquisition_time.value) # acquisition time in second\n",
    "    ns_acqu = int(rs_acqu*t_acqu)\n",
    "    t = np.arange(start=0, stop=t_acqu, step=1/rs_acqu)\n",
    "    \n",
    "    \n",
    "    N = n_of_voltage_points\n",
    "    voltages = np.linspace(min_voltage, max_voltage, num=N)\n",
    "    currents = np.zeros(N)\n",
    "\n",
    "    for i in np.arange(N):\n",
    "        with qdac.qdac(QDAC_port.value) as q:\n",
    "            print('Setting Voltage at channel 1 is: ', q.setDCVoltage(voltage_channel_number, voltages[i]), ' V')\n",
    "            \n",
    "            with nidaqmx.Task() as acqu_task:\n",
    "                acqu_task.ai_channels.add_ai_voltage_chan(Device_ID.value + '/'+ Analog_io_port.value,terminal_config=TermConfig.DIFFERENTIAL,min_val=Minimum_voltage.value,max_val=Maximum_voltage.value)\n",
    "                acqu_task.timing.cfg_samp_clk_timing(rs_acqu,sample_mode=AcqType.FINITE,samps_per_chan=ns_acqu)\n",
    "\n",
    "                # Start acquisition\n",
    "                acqu_task.start()\n",
    "\n",
    "                # Collect the data measured\n",
    "                current_i = acqu_task.read(number_of_samples_per_channel=ns_acqu)\n",
    "                current_i = 1e9*np.array(current_i)/gain # voltage to actual current (in nA) conversion\n",
    "\n",
    "\n",
    "                # Stop acquisition\n",
    "                acqu_task.stop()\n",
    "\n",
    "                currents[i] = current_i.mean()\n",
    "\n",
    "    with qdac.qdac('COM5') as q:\n",
    "            print('All done! Setting Voltage at channel ',  voltage_channel_number, ' to zero V.' )\n",
    "            q.setDCVoltage(voltage_channel_number, 0)\n",
    "\n",
    "    plt.figure()\n",
    "    plt.plot(voltages*1e3, currents, '-*')\n",
    "    plt.xlabel('Voltage (mV)')\n",
    "    plt.ylabel('Current (nA)')\n",
    "    R = np.polyfit(voltages, currents, 1)\n",
    "    plt.title('Linear fit: Resistance is '+ str(1e6/R[0]) + ' kilo-Ohm')"
   ]
  },
  {
   "cell_type": "code",
   "execution_count": null,
   "metadata": {},
   "outputs": [],
   "source": [
    "generate_IV(voltage_channel_number=1, min_voltage=-5e-3, max_voltage=5e-3, n_of_voltage_points=20)"
   ]
  },
  {
   "cell_type": "code",
   "execution_count": 2,
   "metadata": {},
   "outputs": [
    {
     "name": "stdout",
     "output_type": "stream",
     "text": [
      "gain is = 1.00e+07\n"
     ]
    },
    {
     "data": {
      "application/vnd.jupyter.widget-view+json": {
       "model_id": "64ad212e92cb4175a04ce314033845ec",
       "version_major": 2,
       "version_minor": 0
      },
      "text/plain": [
       "Canvas(toolbar=Toolbar(toolitems=[('Home', 'Reset original view', 'home', 'home'), ('Back', 'Back to previous …"
      ]
     },
     "metadata": {},
     "output_type": "display_data"
    },
    {
     "data": {
      "application/vnd.jupyter.widget-view+json": {
       "model_id": "da15f06f2c7a455fb08d36342af61466",
       "version_major": 2,
       "version_minor": 0
      },
      "text/plain": [
       "Canvas(toolbar=Toolbar(toolitems=[('Home', 'Reset original view', 'home', 'home'), ('Back', 'Back to previous …"
      ]
     },
     "metadata": {},
     "output_type": "display_data"
    }
   ],
   "source": [
    "start_data_collection()"
   ]
  },
  {
   "cell_type": "code",
   "execution_count": null,
   "metadata": {},
   "outputs": [],
   "source": []
  }
 ],
 "metadata": {
  "kernelspec": {
   "display_name": "Python 3",
   "language": "python",
   "name": "python3"
  },
  "language_info": {
   "codemirror_mode": {
    "name": "ipython",
    "version": 3
   },
   "file_extension": ".py",
   "mimetype": "text/x-python",
   "name": "python",
   "nbconvert_exporter": "python",
   "pygments_lexer": "ipython3",
   "version": "3.7.7"
  }
 },
 "nbformat": 4,
 "nbformat_minor": 4
}
