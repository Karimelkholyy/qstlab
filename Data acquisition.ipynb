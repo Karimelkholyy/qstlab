{
 "cells": [
  {
   "cell_type": "code",
   "execution_count": 42,
   "metadata": {},
   "outputs": [
    {
     "data": {
      "text/latex": [
       "Inputs for the current preamp: "
      ],
      "text/plain": [
       "<IPython.core.display.Latex object>"
      ]
     },
     "metadata": {},
     "output_type": "display_data"
    },
    {
     "data": {
      "application/vnd.jupyter.widget-view+json": {
       "model_id": "94edfdaba37246908ca1fd145998f77d",
       "version_major": 2,
       "version_minor": 0
      },
      "text/plain": [
       "Dropdown(description='Gain', index=6, options=('1e3', '1e4', '1e5', '1e6', '1e7', '1e8', '1e9', '1e10', '1e11'…"
      ]
     },
     "metadata": {},
     "output_type": "display_data"
    },
    {
     "data": {
      "text/latex": [
       "Inputs for the data acquisition card: "
      ],
      "text/plain": [
       "<IPython.core.display.Latex object>"
      ]
     },
     "metadata": {},
     "output_type": "display_data"
    },
    {
     "data": {
      "application/vnd.jupyter.widget-view+json": {
       "model_id": "0da43bad6ebc44d5b7194c0813e7a01d",
       "version_major": 2,
       "version_minor": 0
      },
      "text/plain": [
       "Dropdown(description='Device ID', index=1, options=('Dev1', 'Dev2', 'Dev3'), value='Dev2')"
      ]
     },
     "metadata": {},
     "output_type": "display_data"
    },
    {
     "data": {
      "application/vnd.jupyter.widget-view+json": {
       "model_id": "08525cfbb19d404a8a1fcf2a31616746",
       "version_major": 2,
       "version_minor": 0
      },
      "text/plain": [
       "Dropdown(description='Analog port', index=1, options=('ai0', 'ai1', 'ai2', 'ai3'), value='ai1')"
      ]
     },
     "metadata": {},
     "output_type": "display_data"
    },
    {
     "data": {
      "application/vnd.jupyter.widget-view+json": {
       "model_id": "737a1427cfb448c192943b85bf1ca62b",
       "version_major": 2,
       "version_minor": 0
      },
      "text/plain": [
       "Dropdown(description='Actual Rate', index=3, options=('1e3', '1e4', '1e5', '1e6'), value='1e6')"
      ]
     },
     "metadata": {},
     "output_type": "display_data"
    },
    {
     "data": {
      "application/vnd.jupyter.widget-view+json": {
       "model_id": "9aeef4bab7ed4cd283bae40bbddb5cea",
       "version_major": 2,
       "version_minor": 0
      },
      "text/plain": [
       "FloatSlider(value=-10.0, description='Min. voltage: ', max=0.0, min=-10.0)"
      ]
     },
     "metadata": {},
     "output_type": "display_data"
    },
    {
     "data": {
      "application/vnd.jupyter.widget-view+json": {
       "model_id": "97e201ef4b2b4c05ad115774a964736e",
       "version_major": 2,
       "version_minor": 0
      },
      "text/plain": [
       "FloatSlider(value=10.0, description='Max. voltage: ', max=10.0)"
      ]
     },
     "metadata": {},
     "output_type": "display_data"
    },
    {
     "data": {
      "application/vnd.jupyter.widget-view+json": {
       "model_id": "93d833cc8ddf469aa24518a5e72302a1",
       "version_major": 2,
       "version_minor": 0
      },
      "text/plain": [
       "FloatSlider(value=0.5, description='Acq. time: ', max=10.0)"
      ]
     },
     "metadata": {},
     "output_type": "display_data"
    },
    {
     "data": {
      "text/latex": [
       "Inputs for data averaging: "
      ],
      "text/plain": [
       "<IPython.core.display.Latex object>"
      ]
     },
     "metadata": {},
     "output_type": "display_data"
    },
    {
     "data": {
      "application/vnd.jupyter.widget-view+json": {
       "model_id": "2ede227071d44cb090fcaaf333d7efd4",
       "version_major": 2,
       "version_minor": 0
      },
      "text/plain": [
       "Dropdown(description='Desired Rate', index=1, options=('1e2', '1e3', '1e4', '1e5', '1e6'), value='1e3')"
      ]
     },
     "metadata": {},
     "output_type": "display_data"
    },
    {
     "data": {
      "text/latex": [
       "Inputs for plotting data: "
      ],
      "text/plain": [
       "<IPython.core.display.Latex object>"
      ]
     },
     "metadata": {},
     "output_type": "display_data"
    },
    {
     "data": {
      "application/vnd.jupyter.widget-view+json": {
       "model_id": "db0c21b695d9493b943dce76b38df348",
       "version_major": 2,
       "version_minor": 0
      },
      "text/plain": [
       "Text(value='', description='Title')"
      ]
     },
     "metadata": {},
     "output_type": "display_data"
    },
    {
     "data": {
      "text/latex": [
       "Inputs for saving data: "
      ],
      "text/plain": [
       "<IPython.core.display.Latex object>"
      ]
     },
     "metadata": {},
     "output_type": "display_data"
    },
    {
     "data": {
      "application/vnd.jupyter.widget-view+json": {
       "model_id": "2d45837e7e7b45bda3f613c849979d71",
       "version_major": 2,
       "version_minor": 0
      },
      "text/plain": [
       "Dropdown(description='Save data', index=1, options=('Yes', 'No'), value='No')"
      ]
     },
     "metadata": {},
     "output_type": "display_data"
    },
    {
     "data": {
      "application/vnd.jupyter.widget-view+json": {
       "model_id": "8b9924e1319549209bc3dc44995ecb31",
       "version_major": 2,
       "version_minor": 0
      },
      "text/plain": [
       "Text(value='', description='Folder (YYYYMMDD)', style=DescriptionStyle(description_width='initial'))"
      ]
     },
     "metadata": {},
     "output_type": "display_data"
    },
    {
     "data": {
      "application/vnd.jupyter.widget-view+json": {
       "model_id": "6f837061449b41cb836fb099db9b2213",
       "version_major": 2,
       "version_minor": 0
      },
      "text/plain": [
       "Text(value='', description='More info')"
      ]
     },
     "metadata": {},
     "output_type": "display_data"
    }
   ],
   "source": [
    "import nidaqmx\n",
    "import numpy as np\n",
    "from scipy import signal\n",
    "import matplotlib.pyplot as plt\n",
    "import os\n",
    "from nidaqmx.constants import AcquisitionType as AcqType\n",
    "from nidaqmx.constants import TerminalConfiguration as TermConfig\n",
    "from datetime import datetime\n",
    "import ipywidgets as wg\n",
    "from IPython.display import display, Latex\n",
    "%matplotlib widget\n",
    "\n",
    "# Data input section\n",
    "display(Latex('Inputs for the current preamp: '))\n",
    "\n",
    "Gain = wg.Dropdown(options=['1e3','1e4','1e5','1e6','1e7','1e8','1e9','1e10','1e11'],\n",
    "    value='1e9',\n",
    "    description='Gain')\n",
    "display(Gain)\n",
    "\n",
    "display(Latex('Inputs for the data acquisition card: '))\n",
    "Device_ID = wg.Dropdown(options=['Dev1','Dev2','Dev3'],\n",
    "    value='Dev2',\n",
    "    description='Device ID')\n",
    "Analog_io_port = wg.Dropdown(options=['ai0','ai1','ai2','ai3'],\n",
    "    value='ai1',\n",
    "    description='Analog port')\n",
    "Actual_Sampling_Rate = wg.Dropdown(options=['1e3','1e4','1e5','1e6'],\n",
    "    value='1e6',\n",
    "    description='Actual Rate')\n",
    "Minimum_voltage = wg.FloatSlider(description='Min. voltage: ', min = -10, max = 0, step = 0.1, value=-10)\n",
    "Maximum_voltage = wg.FloatSlider(description='Max. voltage: ', min = 0, max = 10, step = 0.1, value=10)\n",
    "Acquisition_time = wg.FloatSlider(description='Acq. time: ', min = 0, max = 10, step = 0.1, value=0.5) #in sec\n",
    "\n",
    "display(Device_ID, Analog_io_port, Actual_Sampling_Rate,Minimum_voltage, Maximum_voltage, Acquisition_time)\n",
    "\n",
    "display(Latex('Inputs for data averaging: '))\n",
    "Desired_Sampling_Rate = wg.Dropdown(options=['1e2','1e3','1e4','1e5','1e6'],\n",
    "    value='1e3',\n",
    "    description='Desired Rate')\n",
    "display(Desired_Sampling_Rate)\n",
    "\n",
    "display(Latex('Inputs for plotting data: '))\n",
    "Title_of_plot = wg.Text(description='Title')\n",
    "display(Title_of_plot)\n",
    "\n",
    "display(Latex('Inputs for saving data: '))\n",
    "Saving_data = wg.Dropdown(options=['Yes','No'],\n",
    "    value='No',\n",
    "    description='Save data')\n",
    "Folder_name = wg.Text(description='Folder (YYYYMMDD)', style = {'description_width': 'initial'})\n",
    "Data_information = wg.Text(description='More info')\n",
    "display(Saving_data,Folder_name, Data_information)\n",
    "\n",
    "#Main code starts here\n",
    "def start_data_collection():\n",
    "\n",
    "    #Constant values\n",
    "\n",
    "    gain = float(Gain.value) # gain of the preamps\n",
    "    print('gain is =',\"{:.2e}\".format(gain))\n",
    "\n",
    "\n",
    "    # Data collection with NIDAQ at maximum sampling rate\n",
    "\n",
    "    rs_acqu = float(Actual_Sampling_Rate.value)# sampling rate in Hz\n",
    "    t_acqu = float(Acquisition_time.value) # acquisition time in second\n",
    "    ns_acqu = int(rs_acqu*t_acqu)\n",
    "    t = np.arange(start=0, stop=t_acqu, step=1/rs_acqu)\n",
    "\n",
    "\n",
    "    with nidaqmx.Task() as acqu_task:\n",
    "        # Set acquisition channels and specs\n",
    "        # Change the voltage range if necessary\n",
    "        acqu_task.ai_channels.add_ai_voltage_chan(Device_ID.value + '/'+ Analog_io_port.value,terminal_config=TermConfig.DIFFERENTIAL,min_val=Minimum_voltage.value,max_val=Maximum_voltage.value)\n",
    "        acqu_task.timing.cfg_samp_clk_timing(rs_acqu,sample_mode=AcqType.FINITE,samps_per_chan=ns_acqu)\n",
    "\n",
    "        # Start acquisition\n",
    "        acqu_task.start()\n",
    "\n",
    "        # Collect the data measured\n",
    "        current_i = acqu_task.read(number_of_samples_per_channel=ns_acqu)\n",
    "        current_i = 1e12*np.array(current_i)/gain # voltage to actual current (in pA) conversion\n",
    "\n",
    "        # Stop acquisition\n",
    "        acqu_task.stop()\n",
    "\n",
    "        \n",
    "    # Averaging to get a desired sampling rate (Similar to sampling rate conversion)\n",
    "    rs_desired = float(Desired_Sampling_Rate.value) #desired sampling rate\n",
    "    n_pointstoaverage = int(rs_acqu/rs_desired) # number of points to be averaged\n",
    "    ns_desired = int(rs_desired*t_acqu) # total number of points for the collected signal in the desired rate\n",
    "    t_desired = np.arange(start=0, stop=t_acqu, step=1/rs_desired)\n",
    "    i_desired = np.zeros(ns_desired)\n",
    "    \n",
    "    for index in np.arange(ns_desired):\n",
    "        i_desired[index] = current_i[index*n_pointstoaverage:(index+1)*n_pointstoaverage].mean()\n",
    "\n",
    "        \n",
    "    #Saving Data\n",
    "    if Saving_data.value=='Yes' :\n",
    "        x=t_desired\n",
    "        y=i_desired\n",
    "        data = np.column_stack((x, y))\n",
    "        \n",
    "        path=os.getcwd()\n",
    "        print(os.getcwd())\n",
    "        os.chdir('/Users/Measurement2/OneDrive/GroupShared/Data/Qsim/' + Folder_name.value)\n",
    "        date=datetime.now()\n",
    "        \n",
    "        header=Data_information.value\n",
    "        header+=\"\\n\"+str(date)+\"\\n\"\n",
    "        header+= \"x=time(sec), y=PreampCurrent(pA)\\n\"\n",
    "        print (header)\n",
    "        \n",
    "        with open('filenum.txt', 'r') as f:\n",
    "          filenum = f.readline()\n",
    "        \n",
    "        filename='dat'+str(filenum)+'.dat'\n",
    "        print(filename)\n",
    "\n",
    "        with open(os.path.join(path,filename), 'ab') as file:\n",
    "            np.savetxt(file,data,header=header,delimiter=',')    \n",
    "\n",
    "        filenum=int(filenum)+1\n",
    "\n",
    "        with open('filenum.txt', 'w') as f:\n",
    "           f.write('%d' % filenum)\n",
    "\n",
    "    plt.figure(figsize=(8,5))\n",
    "    plt.plot(t_desired, i_desired)\n",
    "    plt.title(Title_of_plot.value)\n",
    "    plt.ylabel('Preamp current (pA)')\n",
    "    plt.xlabel('time (sec)')\n",
    "\n",
    "    i_rms = np.std(i_desired)\n",
    "    print(i_rms)"
   ]
  },
  {
   "cell_type": "code",
   "execution_count": 44,
   "metadata": {},
   "outputs": [
    {
     "name": "stdout",
     "output_type": "stream",
     "text": [
      "gain is = 1.00e+09\n",
      "C:\\Users\\Measurement2\\OneDrive\\GroupShared\\Data\\Qsim\n",
      "\n",
      "2020-11-05 21:53:47.796756\n",
      "x=time(sec), y=PreampCurrent(pA)\n",
      "\n",
      "dat4.dat\n"
     ]
    },
    {
     "data": {
      "application/vnd.jupyter.widget-view+json": {
       "model_id": "017b05353b5e4dcd95b9d12c8e705fcc",
       "version_major": 2,
       "version_minor": 0
      },
      "text/plain": [
       "Canvas(toolbar=Toolbar(toolitems=[('Home', 'Reset original view', 'home', 'home'), ('Back', 'Back to previous …"
      ]
     },
     "metadata": {},
     "output_type": "display_data"
    },
    {
     "name": "stdout",
     "output_type": "stream",
     "text": [
      "0.59175019698519\n"
     ]
    }
   ],
   "source": [
    "start_data_collection()"
   ]
  },
  {
   "cell_type": "code",
   "execution_count": null,
   "metadata": {},
   "outputs": [],
   "source": []
  }
 ],
 "metadata": {
  "kernelspec": {
   "display_name": "Python 3",
   "language": "python",
   "name": "python3"
  },
  "language_info": {
   "codemirror_mode": {
    "name": "ipython",
    "version": 3
   },
   "file_extension": ".py",
   "mimetype": "text/x-python",
   "name": "python",
   "nbconvert_exporter": "python",
   "pygments_lexer": "ipython3",
   "version": "3.7.7"
  }
 },
 "nbformat": 4,
 "nbformat_minor": 4
}
